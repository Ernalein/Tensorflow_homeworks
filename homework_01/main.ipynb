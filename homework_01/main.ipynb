{
 "cells": [
  {
   "cell_type": "code",
   "execution_count": 1,
   "id": "f27f3c8f-f9ff-4fb9-a546-9d525cd725a0",
   "metadata": {},
   "outputs": [],
   "source": [
    "from perceptron_layer import MLP_layer\n",
    "from activation_functions_benedict import Sigmoid, Softmax, CCELoss\n",
    "from mulit_layer_perceptron import MLP\n"
   ]
  },
  {
   "cell_type": "code",
   "execution_count": 2,
   "id": "b6818fbc-8bb0-4c63-985c-51067f16c38d",
   "metadata": {
    "tags": []
   },
   "outputs": [],
   "source": [
    "import numpy as np\n",
    "from sklearn.datasets import load_digits\n",
    "import matplotlib.pyplot as plt\n",
    "import random"
   ]
  },
  {
   "cell_type": "markdown",
   "id": "07db1e60-739e-4cb6-9616-99450befc9ad",
   "metadata": {},
   "source": [
    "## Load and process MNIST data"
   ]
  },
  {
   "cell_type": "code",
   "execution_count": 3,
   "id": "dc1a6965-ec85-4e97-86a0-b0f619f19534",
   "metadata": {
    "tags": []
   },
   "outputs": [],
   "source": [
    "# self made functions\n",
    "\n",
    "def one_hot_digits(targets):\n",
    "    targets_hot = np.zeros((targets.shape[0],10))\n",
    "    for t, t_hot in zip(targets, targets_hot):\n",
    "        t_hot[t] = 1\n",
    "    return targets_hot\n",
    "\n",
    "def rescale(array, new_min, new_max):\n",
    "    minimum, maximum = np.min(array), np.max(array)\n",
    "    m = (new_max - new_min) / (maximum - minimum)\n",
    "    b = new_min - m * minimum\n",
    "    return m * array + b\n",
    "\n",
    "def shuffle(X, Y_head):\n",
    "    random_index = random.sample(range(len(X)), len(X))\n",
    "    X_shuffled = X[random_index,:]\n",
    "    Y_head_shuffled = Y_head[random_index,:]\n",
    "    return X_shuffled, Y_head_shuffled\n",
    "\n",
    "def minibatches(X, Y_head, batch_size):\n",
    "    num_batches = int(len(X)/batch_size)\n",
    "    if len(X)%batch_size != 0:\n",
    "        num_batches = num_batches + 1\n",
    "    X_minibatches=[]\n",
    "    Y_head_minibatches=[]\n",
    "    for i in range(num_batches):\n",
    "        index = np.array(range(len(X)))\n",
    "        mask = list(index % num_batches == i)\n",
    "        X_minibatches.append(np.array(X[mask]))\n",
    "        Y_head_minibatches.append(np.array(Y_head[mask]))\n",
    "    return X_minibatches, Y_head_minibatches\n",
    "    \n",
    "\n",
    "def display_digit(image, target):\n",
    "    image= np.reshape(image,(8,8))\n",
    "    plt.imshow(image, cmap='gray')\n",
    "    print(target)\n",
    "    plt.show()\n",
    "    \n",
    "def try_network(mlp, X_batch, Y_batch):\n",
    "    predictions = mlp.forward(X_batch)\n",
    "    for image, target, prediction in zip(X_batch, Y_batch, predictions):\n",
    "        image= np.reshape(image,(8,8))\n",
    "        plt.imshow(image, cmap='gray')\n",
    "        print(f\"target: {np.argmax(target)}, prediction: {np.argmax(prediction)}\")\n",
    "        plt.show()"
   ]
  },
  {
   "cell_type": "code",
   "execution_count": 4,
   "id": "32e806bf-84c7-473d-bbe8-dcbb40616a75",
   "metadata": {
    "tags": []
   },
   "outputs": [
    {
     "name": "stdout",
     "output_type": "stream",
     "text": [
      "[0. 0. 0. 1. 0. 0. 0. 0. 0. 0.]\n"
     ]
    },
    {
     "data": {
      "image/png": "[encoded data removed]",
      "text/plain": [
       "<Figure size 640x480 with 1 Axes>"
      ]
     },
     "metadata": {},
     "output_type": "display_data"
    }
   ],
   "source": [
    "# load and process data\n",
    "X, Y_head = load_digits(return_X_y=True)\n",
    "X = rescale(X, 0, 1)\n",
    "Y_head = one_hot_digits(Y_head)\n",
    "X, Y_head = shuffle(X,Y_head)\n",
    "X_batches, Y_head_batches = minibatches(X,Y_head, 10)\n",
    "display_digit(X_batches[0][0], Y_head_batches[0][0])"
   ]
  },
  {
   "cell_type": "markdown",
   "id": "e3e57ff9-0031-49f7-8665-a75f8ffadea3",
   "metadata": {},
   "source": [
    "## building and training a MLP"
   ]
  },
  {
   "cell_type": "code",
   "execution_count": 5,
   "id": "8d2f8efc-74db-4ba5-9a29-e3fa636f4339",
   "metadata": {},
   "outputs": [
    {
     "name": "stderr",
     "output_type": "stream",
     "text": [
      "  0%|                                                                                          | 0/500 [00:00<?, ?it/s]\n"
     ]
    },
    {
     "ename": "ValueError",
     "evalue": "operands could not be broadcast together with shapes (9,) (9,10) ",
     "output_type": "error",
     "traceback": [
      "\u001b[1;31m---------------------------------------------------------------------------\u001b[0m",
      "\u001b[1;31mValueError\u001b[0m                                Traceback (most recent call last)",
      "Cell \u001b[1;32mIn[5], line 5\u001b[0m\n\u001b[0;32m      2\u001b[0m mlp \u001b[38;5;241m=\u001b[39m MLP(n_layers\u001b[38;5;241m=\u001b[39m\u001b[38;5;241m4\u001b[39m, n_units_per_layer\u001b[38;5;241m=\u001b[39m[\u001b[38;5;241m100\u001b[39m,\u001b[38;5;241m50\u001b[39m,\u001b[38;5;241m30\u001b[39m,\u001b[38;5;241m10\u001b[39m], input_size\u001b[38;5;241m=\u001b[39m\u001b[38;5;241m64\u001b[39m)\n\u001b[0;32m      4\u001b[0m \u001b[38;5;66;03m# train perceptron (later a function inside MLP)\u001b[39;00m\n\u001b[1;32m----> 5\u001b[0m loss \u001b[38;5;241m=\u001b[39m \u001b[43mmlp\u001b[49m\u001b[38;5;241;43m.\u001b[39;49m\u001b[43mtraining\u001b[49m\u001b[43m(\u001b[49m\u001b[43mX_batches\u001b[49m\u001b[43m,\u001b[49m\u001b[43m \u001b[49m\u001b[43mY_head_batches\u001b[49m\u001b[43m,\u001b[49m\u001b[43m \u001b[49m\u001b[43mepochs\u001b[49m\u001b[38;5;241;43m=\u001b[39;49m\u001b[38;5;241;43m500\u001b[39;49m\u001b[43m,\u001b[49m\u001b[43m \u001b[49m\u001b[43mlearning_rate\u001b[49m\u001b[38;5;241;43m=\u001b[39;49m\u001b[38;5;241;43m0.5\u001b[39;49m\u001b[43m,\u001b[49m\u001b[43m \u001b[49m\u001b[43mloss_func\u001b[49m\u001b[38;5;241;43m=\u001b[39;49m\u001b[43mCCELoss\u001b[49m\u001b[43m(\u001b[49m\u001b[43m)\u001b[49m\u001b[43m)\u001b[49m\n",
      "File \u001b[1;32m~\\Uni Jupyter Kram\\Tensorflow_homeworks\\homework_01\\mulit_layer_perceptron.py:41\u001b[0m, in \u001b[0;36mMLP.training\u001b[1;34m(self, data_X, data_Y, epochs, learning_rate, loss_func)\u001b[0m\n\u001b[0;32m     39\u001b[0m         loss \u001b[38;5;241m=\u001b[39m loss_func(y_batch, outputs)\n\u001b[0;32m     40\u001b[0m         epoch_loss\u001b[38;5;241m.\u001b[39mappend(loss)              \n\u001b[1;32m---> 41\u001b[0m         \u001b[38;5;28;43mself\u001b[39;49m\u001b[38;5;241;43m.\u001b[39;49m\u001b[43mbackward\u001b[49m\u001b[43m(\u001b[49m\u001b[43mloss_func\u001b[49m\u001b[43m,\u001b[49m\u001b[43m \u001b[49m\u001b[43my_batch\u001b[49m\u001b[43m,\u001b[49m\u001b[43m \u001b[49m\u001b[43moutputs\u001b[49m\u001b[43m,\u001b[49m\u001b[43m \u001b[49m\u001b[43mlearning_rate\u001b[49m\u001b[43m)\u001b[49m\n\u001b[0;32m     42\u001b[0m     average_loss\u001b[38;5;241m.\u001b[39mappend(np\u001b[38;5;241m.\u001b[39mmean(epoch_loss))\n\u001b[0;32m     44\u001b[0m \u001b[38;5;28;01mreturn\u001b[39;00m average_loss\n",
      "File \u001b[1;32m~\\Uni Jupyter Kram\\Tensorflow_homeworks\\homework_01\\mulit_layer_perceptron.py:31\u001b[0m, in \u001b[0;36mMLP.backward\u001b[1;34m(self, loss_func, y_true, y_pred, learning_rate)\u001b[0m\n\u001b[0;32m     29\u001b[0m error_signal \u001b[38;5;241m=\u001b[39m loss_func(y_true, y_pred)\n\u001b[0;32m     30\u001b[0m \u001b[38;5;28;01mfor\u001b[39;00m layer \u001b[38;5;129;01min\u001b[39;00m \u001b[38;5;28mreversed\u001b[39m(\u001b[38;5;28mself\u001b[39m\u001b[38;5;241m.\u001b[39mlayers):\n\u001b[1;32m---> 31\u001b[0m     error_signal \u001b[38;5;241m=\u001b[39m \u001b[43mlayer\u001b[49m\u001b[38;5;241;43m.\u001b[39;49m\u001b[43mbackward\u001b[49m\u001b[43m(\u001b[49m\u001b[43merror_signal\u001b[49m\u001b[43m,\u001b[49m\u001b[43m \u001b[49m\u001b[43mlearning_rate\u001b[49m\u001b[43m)\u001b[49m\n",
      "File \u001b[1;32m~\\Uni Jupyter Kram\\Tensorflow_homeworks\\homework_01\\perceptron_layer.py:40\u001b[0m, in \u001b[0;36mMLP_layer.backward\u001b[1;34m(self, partial_error, learning_rate)\u001b[0m\n\u001b[0;32m     35\u001b[0m \u001b[38;5;28;01mdef\u001b[39;00m \u001b[38;5;21mbackward\u001b[39m(\u001b[38;5;28mself\u001b[39m, partial_error, learning_rate):\n\u001b[0;32m     36\u001b[0m     \n\u001b[0;32m     37\u001b[0m     \u001b[38;5;66;03m# partial_error size -> (minibatchsize, n_units)\u001b[39;00m\n\u001b[0;32m     38\u001b[0m     \u001b[38;5;66;03m# stored_net_input size -> (minibatchsize, n_units)\u001b[39;00m\n\u001b[0;32m     39\u001b[0m     \u001b[38;5;66;03m# error_batches size -> (minibatchsize, n_units)\u001b[39;00m\n\u001b[1;32m---> 40\u001b[0m     error_batches \u001b[38;5;241m=\u001b[39m \u001b[43mpartial_error\u001b[49m\u001b[43m \u001b[49m\u001b[38;5;241;43m*\u001b[39;49m\u001b[43m \u001b[49m\u001b[38;5;28;43mself\u001b[39;49m\u001b[38;5;241;43m.\u001b[39;49m\u001b[43mactivation_func\u001b[49m\u001b[38;5;241;43m.\u001b[39;49m\u001b[43mbackward\u001b[49m\u001b[43m(\u001b[49m\u001b[38;5;28;43mself\u001b[39;49m\u001b[38;5;241;43m.\u001b[39;49m\u001b[43mstored_net_input\u001b[49m\u001b[43m)\u001b[49m\n\u001b[0;32m     42\u001b[0m     \u001b[38;5;66;03m# error_batches size -> (minibatchsize, n_units)\u001b[39;00m\n\u001b[0;32m     43\u001b[0m     \u001b[38;5;66;03m# stored_input size -> (minibatchsize, n_inputs)\u001b[39;00m\n\u001b[0;32m     44\u001b[0m     \u001b[38;5;66;03m# gradients size -> (n_inputs + 1, n_units) just like the weight matrix\u001b[39;00m\n\u001b[0;32m     45\u001b[0m     gradients \u001b[38;5;241m=\u001b[39m np\u001b[38;5;241m.\u001b[39mzeros(\u001b[38;5;28mself\u001b[39m\u001b[38;5;241m.\u001b[39mweights\u001b[38;5;241m.\u001b[39mshape)\n",
      "\u001b[1;31mValueError\u001b[0m: operands could not be broadcast together with shapes (9,) (9,10) "
     ]
    }
   ],
   "source": [
    "# build Perspetron\n",
    "mlp = MLP(n_layers=4, n_units_per_layer=[100,50,30,10], input_size=64)\n",
    "\n",
    "# train perceptron (later a function inside MLP)\n",
    "loss = mlp.training(X_batches, Y_head_batches, epochs=500, learning_rate=0.5, loss_func=CCELoss())"
   ]
  },
  {
   "cell_type": "code",
   "execution_count": null,
   "id": "0bcf4538-18f8-468c-bf9e-e9b5c580afdf",
   "metadata": {},
   "outputs": [],
   "source": [
    "#print(loss)\n",
    "plt.plot(loss)\n",
    "plt.ylabel(\"CCE Loss\")\n",
    "plt.xlabel(\"epochs\")\n",
    "plt.show()"
   ]
  },
  {
   "cell_type": "code",
   "execution_count": null,
   "id": "f51114f7-91c3-4fc3-8be0-7acfe2208d94",
   "metadata": {
    "tags": []
   },
   "outputs": [],
   "source": [
    "try_network(mlp, X_batches[0], Y_head_batches[0])"
   ]
  }
 ],
 "metadata": {
  "kernelspec": {
   "display_name": "Python 3 (ipykernel)",
   "language": "python",
   "name": "python3"
  },
  "language_info": {
   "codemirror_mode": {
    "name": "ipython",
    "version": 3
   },
   "file_extension": ".py",
   "mimetype": "text/x-python",
   "name": "python",
   "nbconvert_exporter": "python",
   "pygments_lexer": "ipython3",
   "version": "3.10.13"
  }
 },
 "nbformat": 4,
 "nbformat_minor": 5
}
