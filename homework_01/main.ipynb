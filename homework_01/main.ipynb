{
 "cells": [
  {
   "cell_type": "code",
   "execution_count": 1,
   "id": "f27f3c8f-f9ff-4fb9-a546-9d525cd725a0",
   "metadata": {},
   "outputs": [],
   "source": [
    "from perceptron_layer import MLP_layer\n",
    "from activation_functions import Sigmoid, Softmax, CCELoss\n",
    "from mulit_layer_perceptron import MLP\n"
   ]
  },
  {
   "cell_type": "code",
   "execution_count": 2,
   "id": "b6818fbc-8bb0-4c63-985c-51067f16c38d",
   "metadata": {
    "tags": []
   },
   "outputs": [],
   "source": [
    "import numpy as np\n",
    "from sklearn.datasets import load_digits\n",
    "import matplotlib.pyplot as plt\n",
    "import random"
   ]
  },
  {
   "cell_type": "markdown",
   "id": "07db1e60-739e-4cb6-9616-99450befc9ad",
   "metadata": {},
   "source": [
    "## Load and process MNIST data"
   ]
  },
  {
   "cell_type": "code",
   "execution_count": 3,
   "id": "dc1a6965-ec85-4e97-86a0-b0f619f19534",
   "metadata": {
    "tags": []
   },
   "outputs": [],
   "source": [
    "# self made functions\n",
    "\n",
    "def one_hot_digits(targets):\n",
    "    targets_hot = np.zeros((targets.shape[0],10))\n",
    "    for t, t_hot in zip(targets, targets_hot):\n",
    "        t_hot[t] = 1\n",
    "    return targets_hot\n",
    "\n",
    "def rescale(array, new_min, new_max):\n",
    "    minimum, maximum = np.min(array), np.max(array)\n",
    "    m = (new_max - new_min) / (maximum - minimum)\n",
    "    b = new_min - m * minimum\n",
    "    return m * array + b\n",
    "\n",
    "def shuffle(X, Y_head):\n",
    "    random_index = random.sample(range(len(X)), len(X))\n",
    "    X_shuffled = X[random_index,:]\n",
    "    Y_head_shuffled = Y_head[random_index,:]\n",
    "    return X_shuffled, Y_head_shuffled\n",
    "\n",
    "def minibatches(X, Y_head, batch_size):\n",
    "    num_batches = int(len(X)/batch_size)\n",
    "    if len(X)%batch_size != 0:\n",
    "        num_batches = num_batches + 1\n",
    "    X_minibatches=[]\n",
    "    Y_head_minibatches=[]\n",
    "    for i in range(num_batches):\n",
    "        index = np.array(range(len(X)))\n",
    "        mask = list(index % num_batches == i)\n",
    "        X_minibatches.append(np.array(X[mask]))\n",
    "        Y_head_minibatches.append(np.array(Y_head[mask]))\n",
    "    return X_minibatches, Y_head_minibatches\n",
    "    \n",
    "\n",
    "def display_digit(image, target):\n",
    "    image= np.reshape(image,(8,8))\n",
    "    plt.imshow(image, cmap='gray')\n",
    "    print(target)\n",
    "    plt.show()"
   ]
  },
  {
   "cell_type": "code",
   "execution_count": 4,
   "id": "32e806bf-84c7-473d-bbe8-dcbb40616a75",
   "metadata": {
    "tags": []
   },
   "outputs": [
    {
     "name": "stdout",
     "output_type": "stream",
     "text": [
      "[0. 0. 0. 0. 0. 0. 0. 0. 1. 0.]\n"
     ]
    },
    {
     "data": {
      "image/png": "[encoded data removed]",
      "text/plain": [
       "<Figure size 640x480 with 1 Axes>"
      ]
     },
     "metadata": {},
     "output_type": "display_data"
    }
   ],
   "source": [
    "# load and process data\n",
    "X, Y_head = load_digits(return_X_y=True)\n",
    "X = rescale(X, 0, 1)\n",
    "Y_head = one_hot_digits(Y_head)\n",
    "X, Y_head = shuffle(X,Y_head)\n",
    "X_batches, Y_head_batches = minibatches(X,Y_head, 10)\n",
    "display_digit(X_batches[0][0], Y_head_batches[0][0])"
   ]
  },
  {
   "cell_type": "markdown",
   "id": "e3e57ff9-0031-49f7-8665-a75f8ffadea3",
   "metadata": {},
   "source": [
    "## building and training a MLP"
   ]
  },
  {
   "cell_type": "code",
   "execution_count": null,
   "id": "8d2f8efc-74db-4ba5-9a29-e3fa636f4339",
   "metadata": {},
   "outputs": [
    {
     "name": "stderr",
     "output_type": "stream",
     "text": [
      " 18%|█████████████▊                                                               | 1799/10000 [09:42<44:50,  3.05it/s]"
     ]
    }
   ],
   "source": [
    "# build Perspetron\n",
    "mlp = MLP(n_layers=4, n_units_per_layer=[100,50,30,10], input_size=64)\n",
    "\n",
    "# train perceptron (later a function inside MLP)\n",
    "loss = mlp.training(X_batches, Y_head_batches, epochs=10000, learning_rate=0.01, loss_func=CCELoss())"
   ]
  },
  {
   "cell_type": "code",
   "execution_count": null,
   "id": "0bcf4538-18f8-468c-bf9e-e9b5c580afdf",
   "metadata": {},
   "outputs": [],
   "source": [
    "plt.plot(loss)\n",
    "plt.ylabel(\"CCE Loss\")\n",
    "plt.xlabel(\"epochs\")\n",
    "plt.show()"
   ]
  },
  {
   "cell_type": "code",
   "execution_count": null,
   "id": "f51114f7-91c3-4fc3-8be0-7acfe2208d94",
   "metadata": {},
   "outputs": [],
   "source": []
  }
 ],
 "metadata": {
  "kernelspec": {
   "display_name": "Python 3 (ipykernel)",
   "language": "python",
   "name": "python3"
  },
  "language_info": {
   "codemirror_mode": {
    "name": "ipython",
    "version": 3
   },
   "file_extension": ".py",
   "mimetype": "text/x-python",
   "name": "python",
   "nbconvert_exporter": "python",
   "pygments_lexer": "ipython3",
   "version": "3.10.13"
  }
 },
 "nbformat": 4,
 "nbformat_minor": 5
}
